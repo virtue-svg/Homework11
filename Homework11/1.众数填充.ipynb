{
 "cells": [
  {
   "cell_type": "code",
   "execution_count": 1,
   "metadata": {},
   "outputs": [
    {
     "name": "stdout",
     "output_type": "stream",
     "text": [
      "KNN F1 score:0.8392\n",
      "Decision Tree F1 score:0.8644\n",
      "Logistic Regression F1 score:0.8491\n",
      "SVM F1 score:0.8585\n"
     ]
    }
   ],
   "source": [
    "# 读取csv文件\n",
    "import pandas as pd\n",
    "data = pd.read_csv(\"fraudulent.csv\")\n",
    "\n",
    "# 用众数填充\n",
    "from sklearn.impute import SimpleImputer\n",
    "# 使用SimpleImputer类填充缺失值，策略为每列的众数\n",
    "imputer = SimpleImputer(strategy = 'most_frequent')\n",
    "# 将数据转换为NumPy数组，填充缺失值，然后转换回DataFrame\n",
    "data_imputed = pd.DataFrame(imputer.fit_transform(data),columns= data.columns)\n",
    "\n",
    "# 提取特征值和标签，划分训练集和测试集\n",
    "from sklearn.model_selection import train_test_split\n",
    "X = data_imputed.drop('y',axis=1)\n",
    "Y = data_imputed['y']\n",
    "X_train,X_test,Y_train,Y_test = train_test_split(X,Y,test_size=0.2,random_state=1)\n",
    "\n",
    "from sklearn.neighbors import KNeighborsClassifier\n",
    "from sklearn.tree import DecisionTreeClassifier\n",
    "from sklearn.linear_model import LogisticRegression\n",
    "from sklearn.svm import SVC\n",
    "from sklearn.metrics import f1_score\n",
    "\n",
    "# 初始化不同的分类模型\n",
    "models = {\n",
    "    \"KNN\": KNeighborsClassifier(),\n",
    "    \"Decision Tree\": DecisionTreeClassifier(),\n",
    "    \"Logistic Regression\": LogisticRegression(),\n",
    "    \"SVM\": SVC()\n",
    "}\n",
    "\n",
    "# 训练每个模型并在测试集上计算F1分数\n",
    "for name, model in models.items():\n",
    "    # 训练模型\n",
    "    model.fit(X_train, Y_train)\n",
    "    # 在测试集上进行预测\n",
    "    Y_pred = model.predict(X_test)\n",
    "    # 计算F1分数并打印结果\n",
    "    f1 = f1_score(Y_pred,Y_test)\n",
    "    print(f\"{name} F1 score:{f1:.4f}\")\n",
    "\n",
    "\n",
    "\n",
    "\n"
   ]
  }
 ],
 "metadata": {
  "kernelspec": {
   "display_name": "base",
   "language": "python",
   "name": "python3"
  },
  "language_info": {
   "codemirror_mode": {
    "name": "ipython",
    "version": 3
   },
   "file_extension": ".py",
   "mimetype": "text/x-python",
   "name": "python",
   "nbconvert_exporter": "python",
   "pygments_lexer": "ipython3",
   "version": "3.11.7"
  }
 },
 "nbformat": 4,
 "nbformat_minor": 2
}
