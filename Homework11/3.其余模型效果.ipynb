{
 "cells": [
  {
   "cell_type": "code",
   "execution_count": 2,
   "metadata": {},
   "outputs": [
    {
     "name": "stdout",
     "output_type": "stream",
     "text": [
      "Random Forest F1 score: 0.8649\n",
      "Gradient Boosting F1 score: 0.8612\n",
      "Naive Bayes F1 score: 0.5530\n",
      "Neural Network F1 score: 0.8678\n"
     ]
    }
   ],
   "source": [
    "import pandas as pd\n",
    "from sklearn.impute import SimpleImputer\n",
    "from sklearn.model_selection import train_test_split\n",
    "from sklearn.metrics import f1_score\n",
    "from sklearn.ensemble import RandomForestClassifier\n",
    "from sklearn.ensemble import GradientBoostingClassifier\n",
    "from sklearn.naive_bayes import GaussianNB\n",
    "from sklearn.neural_network import MLPClassifier\n",
    "\n",
    "# 读取CSV文件\n",
    "data = pd.read_csv(\"fraudulent.csv\")\n",
    "\n",
    "# 计算每列的缺失值数量\n",
    "missing_values_count = data.isnull().sum()\n",
    "\n",
    "# 计算数据集中的总行数\n",
    "total_rows = data.shape[0]\n",
    "\n",
    "# 剔除缺失值超过20%的列\n",
    "columns_to_drop = missing_values_count[missing_values_count > total_rows * 0.20].index\n",
    "data_cleaned = data.drop(columns=columns_to_drop)\n",
    "\n",
    "# 众数填充\n",
    "imputer = SimpleImputer(strategy='most_frequent')\n",
    "data_cleaned_imputed = pd.DataFrame(imputer.fit_transform(data_cleaned), columns=data_cleaned.columns)\n",
    "\n",
    "# 将数据分为特征和标签\n",
    "X = data_cleaned_imputed.drop('y', axis=1)\n",
    "y = data_cleaned_imputed['y']\n",
    "\n",
    "# 划分数据集，训练集比例为0.8，随机种子设置为1\n",
    "X_train, X_test, Y_train, Y_test = train_test_split(X, y, test_size=0.2, random_state=1)\n",
    "\n",
    "# 初始化分类模型\n",
    "models = {\n",
    "    \"Random Forest\": RandomForestClassifier(),\n",
    "    \"Gradient Boosting\": GradientBoostingClassifier(),\n",
    "    \"Naive Bayes\": GaussianNB(),\n",
    "    \"Neural Network\": MLPClassifier(max_iter=1000)\n",
    "}\n",
    "\n",
    "# 训练模型并在测试集上计算F1分数\n",
    "for name, model in models.items():\n",
    "    model.fit(X_train, Y_train)\n",
    "    Y_pred = model.predict(X_test)\n",
    "    f1 = f1_score(Y_test, Y_pred)\n",
    "    print(f\"{name} F1 score: {f1:.4f}\")"
   ]
  }
 ],
 "metadata": {
  "kernelspec": {
   "display_name": "base",
   "language": "python",
   "name": "python3"
  },
  "language_info": {
   "codemirror_mode": {
    "name": "ipython",
    "version": 3
   },
   "file_extension": ".py",
   "mimetype": "text/x-python",
   "name": "python",
   "nbconvert_exporter": "python",
   "pygments_lexer": "ipython3",
   "version": "3.11.7"
  }
 },
 "nbformat": 4,
 "nbformat_minor": 2
}
