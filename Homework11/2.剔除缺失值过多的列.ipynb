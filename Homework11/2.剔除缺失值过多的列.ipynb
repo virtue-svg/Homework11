{
 "cells": [
  {
   "cell_type": "code",
   "execution_count": 5,
   "metadata": {},
   "outputs": [
    {
     "name": "stdout",
     "output_type": "stream",
     "text": [
      "KNN F1 score:0.8412822517591868\n",
      "Decision Tree F1 score:0.8708133971291866\n",
      "Logistic Regression F1 score:0.85\n",
      "SVM F1 score:0.8594249201277955\n"
     ]
    }
   ],
   "source": [
    "# 读取csv文件\n",
    "import pandas as pd\n",
    "data = pd.read_csv(\"fraudulent.csv\")\n",
    "\n",
    "# 计算每列的缺失值数量\n",
    "missing_values_count = data.isnull().sum()\n",
    "\n",
    "# 计算数据集中的总行数\n",
    "total_rows = data.shape[0]\n",
    "\n",
    "# 剔除缺失值超过20%的列\n",
    "columns_to_drop = missing_values_count[missing_values_count > total_rows * 0.20].index\n",
    "data_cleaned = data.drop(columns=columns_to_drop)\n",
    "\n",
    "# 众数填充\n",
    "from sklearn.impute import SimpleImputer\n",
    "imputer = SimpleImputer(strategy = 'most_frequent')\n",
    "data_cleaned_imputed = pd.DataFrame(imputer.fit_transform(data_cleaned),columns= data_cleaned.columns)\n",
    "\n",
    "from sklearn.model_selection import train_test_split\n",
    "# 将数据分为特征和标签\n",
    "X = data_cleaned_imputed.drop('y', axis=1)\n",
    "y = data_cleaned_imputed['y']\n",
    "\n",
    "# 划分数据集，训练集比例为0.8，随机种子设置为1\n",
    "X_train, X_test, Y_train, Y_test = train_test_split(X, y, test_size=0.2, random_state=1)\n",
    "\n",
    "from sklearn.neighbors import KNeighborsClassifier\n",
    "from sklearn.tree import DecisionTreeClassifier\n",
    "from sklearn.linear_model import LogisticRegression\n",
    "from sklearn.svm import SVC\n",
    "from sklearn.metrics import f1_score\n",
    "\n",
    "# 初始化不同的分类模型\n",
    "models = {\n",
    "    \"KNN\": KNeighborsClassifier(),\n",
    "    \"Decision Tree\": DecisionTreeClassifier(),\n",
    "    \"Logistic Regression\": LogisticRegression(),\n",
    "    \"SVM\": SVC()\n",
    "}\n",
    "\n",
    "# 训练每个模型并在测试集上计算F1分数\n",
    "for name, model in models.items():\n",
    "    # 训练模型\n",
    "    model.fit(X_train, Y_train)\n",
    "    # 在测试集上进行预测\n",
    "    Y_pred = model.predict(X_test)\n",
    "    # 计算F1分数并打印结果\n",
    "    f1 = f1_score(Y_pred,Y_test)\n",
    "    print(f\"{name} F1 score:{f1:.4f}\")\n",
    "\n"
   ]
  }
 ],
 "metadata": {
  "kernelspec": {
   "display_name": "base",
   "language": "python",
   "name": "python3"
  },
  "language_info": {
   "codemirror_mode": {
    "name": "ipython",
    "version": 3
   },
   "file_extension": ".py",
   "mimetype": "text/x-python",
   "name": "python",
   "nbconvert_exporter": "python",
   "pygments_lexer": "ipython3",
   "version": "3.11.7"
  }
 },
 "nbformat": 4,
 "nbformat_minor": 2
}
